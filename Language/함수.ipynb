{
 "cells": [
  {
   "cell_type": "code",
   "execution_count": 1,
   "metadata": {},
   "outputs": [
    {
     "data": {
      "text/plain": [
       "'\\ndef 함수명(매개변수):\\n    실행할 소스코드\\n    return 반환 값\\n\\n'"
      ]
     },
     "execution_count": 1,
     "metadata": {},
     "output_type": "execute_result"
    }
   ],
   "source": [
    "'''\n",
    "def 함수명(매개변수):\n",
    "    실행할 소스코드\n",
    "    return 반환 값\n",
    "\n",
    "'''"
   ]
  },
  {
   "cell_type": "code",
   "execution_count": 2,
   "metadata": {},
   "outputs": [
    {
     "name": "stdout",
     "output_type": "stream",
     "text": [
      "15\n"
     ]
    }
   ],
   "source": [
    "#return이 있는 경우\n",
    "\n",
    "def add(a, b):\n",
    "    return a + b\n",
    "\n",
    "print(add(5, 10))"
   ]
  },
  {
   "cell_type": "code",
   "execution_count": 4,
   "metadata": {},
   "outputs": [
    {
     "data": {
      "text/plain": [
       "15"
      ]
     },
     "execution_count": 4,
     "metadata": {},
     "output_type": "execute_result"
    }
   ],
   "source": [
    "#return이 있는 없는 경우\n",
    "\n",
    "def add(a, b):\n",
    "    return a + b\n",
    "\n",
    "add(5,10) "
   ]
  },
  {
   "cell_type": "code",
   "execution_count": 5,
   "metadata": {},
   "outputs": [
    {
     "name": "stdout",
     "output_type": "stream",
     "text": [
      "함수의 결과:  15\n"
     ]
    }
   ],
   "source": [
    "#파라미터 값을 직접 입력 했을 경우\n",
    "\n",
    "def add(a, b):\n",
    "    print('함수의 결과: ' , a + b)\n",
    "    \n",
    "add(a = 5, b = 10)"
   ]
  },
  {
   "cell_type": "code",
   "execution_count": 7,
   "metadata": {},
   "outputs": [
    {
     "name": "stdout",
     "output_type": "stream",
     "text": [
      "5\n"
     ]
    }
   ],
   "source": [
    "#global 변수\n",
    "\n",
    "a = 0\n",
    "\n",
    "def func():\n",
    "    global a\n",
    "    a += 1\n",
    "    \n",
    "for i in range(5): # def 함수를 5번 반복한다.\n",
    "    func()\n",
    "    \n",
    "print(a)"
   ]
  },
  {
   "cell_type": "code",
   "execution_count": 9,
   "metadata": {},
   "outputs": [
    {
     "name": "stdout",
     "output_type": "stream",
     "text": [
      "15\n",
      "15\n"
     ]
    }
   ],
   "source": [
    "#람다식으로 표현하는 것! 매우 간결하게 사용한다.\n",
    "\n",
    "def add(a, b):\n",
    "    return a + b\n",
    "\n",
    "#람다 표현식 사용하기 전인 일반적인 add() 메서드\n",
    "print(add(5, 10))\n",
    "\n",
    "#람다 표현식\n",
    "print((lambda a, b: a + b)(5, 10))"
   ]
  },
  {
   "cell_type": "code",
   "execution_count": null,
   "metadata": {},
   "outputs": [],
   "source": []
  }
 ],
 "metadata": {
  "kernelspec": {
   "display_name": "Python 3",
   "language": "python",
   "name": "python3"
  },
  "language_info": {
   "codemirror_mode": {
    "name": "ipython",
    "version": 3
   },
   "file_extension": ".py",
   "mimetype": "text/x-python",
   "name": "python",
   "nbconvert_exporter": "python",
   "pygments_lexer": "ipython3",
   "version": "3.8.3"
  }
 },
 "nbformat": 4,
 "nbformat_minor": 4
}
